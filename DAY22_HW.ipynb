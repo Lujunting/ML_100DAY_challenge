{
 "cells": [
  {
   "cell_type": "code",
   "execution_count": null,
   "id": "c2da4377",
   "metadata": {},
   "outputs": [],
   "source": [
    "# HW1\n",
    " B,C區塊街屬於特徵工程的部分，介於讀取資料後和模型預測前的步驟\n",
    "# HW2\n",
    " 如sex,name這類的物件皆屬類別型資料\n",
    "# HW3\n",
    " Survived 為最終我們關心的target，因此孿為何其他欄位的關聯預測結果"
   ]
  }
 ],
 "metadata": {
  "kernelspec": {
   "display_name": "Python 3 (ipykernel)",
   "language": "python",
   "name": "python3"
  },
  "language_info": {
   "codemirror_mode": {
    "name": "ipython",
    "version": 3
   },
   "file_extension": ".py",
   "mimetype": "text/x-python",
   "name": "python",
   "nbconvert_exporter": "python",
   "pygments_lexer": "ipython3",
   "version": "3.8.2"
  }
 },
 "nbformat": 4,
 "nbformat_minor": 5
}
